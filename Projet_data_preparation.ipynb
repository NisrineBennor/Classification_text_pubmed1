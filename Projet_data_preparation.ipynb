{
 "cells": [
  {
   "cell_type": "markdown",
   "metadata": {},
   "source": [
    "### Import des packages"
   ]
  },
  {
   "cell_type": "code",
   "execution_count": 3,
   "metadata": {},
   "outputs": [],
   "source": [
    "import json \n",
    "import tensorflow as tf\n",
    "import pandas as pd\n",
    "import numpy as np \n",
    "import matplotlib.pyplot as plt\n",
    "%matplotlib inline\n",
    "from sklearn.model_selection import train_test_split\n",
    "from sklearn.feature_extraction.text import TfidfVectorizer\n",
    "from sklearn.model_selection import StratifiedShuffleSplit\n",
    "from sklearn.metrics import accuracy_score\n",
    "\n"
   ]
  },
  {
   "cell_type": "markdown",
   "metadata": {},
   "source": [
    "### Chargement des données"
   ]
  },
  {
   "cell_type": "code",
   "execution_count": 2,
   "metadata": {},
   "outputs": [],
   "source": [
    "with open('ai_pub_samp.json','r') as f:\n",
    "  data = json.load(f)"
   ]
  },
  {
   "cell_type": "markdown",
   "metadata": {},
   "source": [
    "### Extraction des titres et des catégories"
   ]
  },
  {
   "cell_type": "code",
   "execution_count": 3,
   "metadata": {},
   "outputs": [],
   "source": [
    "# mettre le titre en minuscule dans la variable X_title\n",
    "X_title = [x['title'].lower() for x in data]\n",
    "# extraire et mettre en miniscules l'abstract dans la variable X_abstract\n",
    "X_abstract = [x['abstract'].lower() for x in data]\n",
    "# mettre la catégorie (1e élément de la liste) dans la variable Y\n",
    "Y = [x['categories'][0] for x in data]"
   ]
  },
  {
   "cell_type": "markdown",
   "metadata": {},
   "source": [
    "### Répartition des catégories / nombre d'articles par categories"
   ]
  },
  {
   "cell_type": "code",
   "execution_count": 5,
   "metadata": {},
   "outputs": [
    {
     "data": {
      "text/plain": [
       "MULTIDISCIPLINARY SCIENCES                       1886\n",
       "UROLOGY & NEPHROLOGY                              674\n",
       "RADIOLOGY, NUCLEAR MEDICINE & MEDICAL IMAGING     646\n",
       "ENGINEERING, BIOMEDICAL                           641\n",
       "SURGERY                                           610\n",
       "NEUROSCIENCES                                     526\n",
       "MATHEMATICAL & COMPUTATIONAL BIOLOGY              372\n",
       "BIOCHEMISTRY & MOLECULAR BIOLOGY                  344\n",
       "COMPUTER SCIENCE, ARTIFICIAL INTELLIGENCE         289\n",
       "GENETICS & HEREDITY                               245\n",
       "dtype: int64"
      ]
     },
     "execution_count": 5,
     "metadata": {},
     "output_type": "execute_result"
    }
   ],
   "source": [
    "y_df = pd.Series(Y)\n",
    "\n",
    "y_df.value_counts()[:10]"
   ]
  },
  {
   "cell_type": "code",
   "execution_count": 6,
   "metadata": {},
   "outputs": [
    {
     "data": {
      "text/plain": [
       "97"
      ]
     },
     "execution_count": 6,
     "metadata": {},
     "output_type": "execute_result"
    }
   ],
   "source": [
    "# nombre des categories\n",
    "output = []\n",
    "for x in Y:\n",
    "    if x not in output:\n",
    "        output.append(x)\n",
    "len(output)\n"
   ]
  },
  {
   "cell_type": "code",
   "execution_count": 6,
   "metadata": {
    "scrolled": true
   },
   "outputs": [],
   "source": [
    "from collections import Counter\n",
    "cpt = Counter(Y)\n"
   ]
  },
  {
   "cell_type": "code",
   "execution_count": 8,
   "metadata": {},
   "outputs": [
    {
     "data": {
      "text/plain": [
       "<BarContainer object of 97 artists>"
      ]
     },
     "execution_count": 8,
     "metadata": {},
     "output_type": "execute_result"
    },
    {
     "data": {
      "image/png": "[encoded data removed]",
      "text/plain": [
       "<Figure size 432x288 with 1 Axes>"
      ]
     },
     "metadata": {
      "needs_background": "light"
     },
     "output_type": "display_data"
    }
   ],
   "source": [
    "plt.bar(cpt.keys(), cpt.values(), width=1, color='g')"
   ]
  },
  {
   "cell_type": "markdown",
   "metadata": {},
   "source": [
    "# Preprocessing\n",
    "## Elimination des classes non fréquentes ( n < 2 )"
   ]
  },
  {
   "cell_type": "code",
   "execution_count": 10,
   "metadata": {},
   "outputs": [
    {
     "data": {
      "text/plain": [
       "SOCIAL WORK                 1\n",
       "STATISTICS & PROBABILITY    1\n",
       "ENTOMOLOGY                  1\n",
       "MEDICAL ETHICS              1\n",
       "MATHEMATICS, APPLIED        1\n",
       "HORTICULTURE                1\n",
       "dtype: int64"
      ]
     },
     "execution_count": 10,
     "metadata": {},
     "output_type": "execute_result"
    }
   ],
   "source": [
    "y_counts = y_df.value_counts()\n",
    "y_counts[y_counts < 2]\n"
   ]
  },
  {
   "cell_type": "code",
   "execution_count": 15,
   "metadata": {},
   "outputs": [],
   "source": [
    "discarded_labels = y_counts[y_counts < 2].index.tolist()"
   ]
  },
  {
   "cell_type": "code",
   "execution_count": null,
   "metadata": {},
   "outputs": [],
   "source": [
    "discarding_mask = [y in discarded_labels for y in Y]"
   ]
  },
  {
   "cell_type": "code",
   "execution_count": 37,
   "metadata": {},
   "outputs": [
    {
     "data": {
      "text/plain": [
       "(9994, 6, 10000)"
      ]
     },
     "execution_count": 37,
     "metadata": {},
     "output_type": "execute_result"
    }
   ],
   "source": [
    "Y_kept = [y for y in Y if y not in discarded_labels]\n",
    "Y_discarded = [y for y in Y if y in discarded_labels]\n",
    "len(Y_kept), len(Y_discarded), len(Y)"
   ]
  },
  {
   "cell_type": "code",
   "execution_count": 33,
   "metadata": {},
   "outputs": [
    {
     "data": {
      "text/plain": [
       "(9994, 6, 10000)"
      ]
     },
     "execution_count": 33,
     "metadata": {},
     "output_type": "execute_result"
    }
   ],
   "source": [
    "X_title_kept = [X_title[i] for i in range(len(X_title)) if not discarding_mask[i]]\n",
    "X_title_discarded = [X_title[i] for i in range(len(X_title)) if  discarding_mask[i]]\n",
    "len(X_title_kept), len(X_title_discarded), len(X_title)"
   ]
  },
  {
   "cell_type": "code",
   "execution_count": 34,
   "metadata": {},
   "outputs": [
    {
     "data": {
      "text/plain": [
       "(9994, 6, 10000)"
      ]
     },
     "execution_count": 34,
     "metadata": {},
     "output_type": "execute_result"
    }
   ],
   "source": [
    "X_abstract_kept = [X_abstract[i] for i in range(len(X_abstract)) if not discarding_mask[i]]\n",
    "X_abstract_discarded = [X_abstract[i] for i in range(len(X_abstract)) if  discarding_mask[i]]\n",
    "len(X_abstract_kept), len(X_abstract_discarded), len(X_abstract)"
   ]
  },
  {
   "cell_type": "markdown",
   "metadata": {},
   "source": [
    "### Décomposer les données en train et test"
   ]
  },
  {
   "cell_type": "markdown",
   "metadata": {},
   "source": [
    "### titre uniquement"
   ]
  },
  {
   "cell_type": "code",
   "execution_count": 30,
   "metadata": {},
   "outputs": [],
   "source": [
    "!mkdir -p data/title_only"
   ]
  },
  {
   "cell_type": "code",
   "execution_count": 51,
   "metadata": {},
   "outputs": [
    {
     "data": {
      "text/plain": [
       "(8000, 8000, 2000, 2000)"
      ]
     },
     "execution_count": 51,
     "metadata": {},
     "output_type": "execute_result"
    }
   ],
   "source": [
    "x_train, x_test, y_train, y_test = train_test_split(X_title_kept, Y_kept, test_size=0.1995, random_state=0, stratify=Y_kept)\n",
    "x_test = x_test + X_title_discarded\n",
    "y_test = y_test + Y_discarded\n",
    "len (x_train), len (y_train), len(x_test), len (y_test)"
   ]
  },
  {
   "cell_type": "code",
   "execution_count": 56,
   "metadata": {},
   "outputs": [],
   "source": [
    "pd.DataFrame({\n",
    "    'title': x_train,\n",
    "    'label': y_train\n",
    "}).to_csv(\"data/title_only/train.csv\", index=False)"
   ]
  },
  {
   "cell_type": "code",
   "execution_count": 57,
   "metadata": {},
   "outputs": [],
   "source": [
    "pd.DataFrame({\n",
    "    'title': x_test,\n",
    "    'label': y_test\n",
    "}).to_csv(\"data/title_only/test.csv\", index=False)"
   ]
  },
  {
   "cell_type": "markdown",
   "metadata": {},
   "source": [
    "### Abstract uniquement"
   ]
  },
  {
   "cell_type": "code",
   "execution_count": 58,
   "metadata": {},
   "outputs": [],
   "source": [
    "data_dir = \"data/abstract_only\"\n",
    "!mkdir -p $data_dir"
   ]
  },
  {
   "cell_type": "code",
   "execution_count": 59,
   "metadata": {},
   "outputs": [
    {
     "data": {
      "text/plain": [
       "(8000, 8000, 2000, 2000)"
      ]
     },
     "execution_count": 59,
     "metadata": {},
     "output_type": "execute_result"
    }
   ],
   "source": [
    "x_train, x_test, y_train, y_test = train_test_split(X_abstract_kept, Y_kept, test_size=0.1995, random_state=0, stratify=Y_kept)\n",
    "x_test = x_test + X_title_discarded\n",
    "y_test = y_test + Y_discarded\n",
    "len (x_train), len (y_train), len(x_test), len (y_test)"
   ]
  },
  {
   "cell_type": "code",
   "execution_count": 60,
   "metadata": {},
   "outputs": [],
   "source": [
    "pd.DataFrame({\n",
    "    'abstract': x_train,\n",
    "    'label': y_train\n",
    "}).to_csv(f\"{data_dir}/train.csv\", index=False)"
   ]
  },
  {
   "cell_type": "code",
   "execution_count": 61,
   "metadata": {},
   "outputs": [],
   "source": [
    "pd.DataFrame({\n",
    "    'abstract': x_test,\n",
    "    'label': y_test\n",
    "}).to_csv(f\"{data_dir}/test.csv\", index=False)"
   ]
  },
  {
   "cell_type": "markdown",
   "metadata": {},
   "source": [
    "### Title et abstract ensemble"
   ]
  },
  {
   "cell_type": "code",
   "execution_count": 62,
   "metadata": {},
   "outputs": [],
   "source": [
    "data_dir = \"data/abstract_title\"\n",
    "!mkdir -p $data_dir"
   ]
  },
  {
   "cell_type": "code",
   "execution_count": 76,
   "metadata": {},
   "outputs": [
    {
     "data": {
      "text/html": [
       "<div>\n",
       "<style scoped>\n",
       "    .dataframe tbody tr th:only-of-type {\n",
       "        vertical-align: middle;\n",
       "    }\n",
       "\n",
       "    .dataframe tbody tr th {\n",
       "        vertical-align: top;\n",
       "    }\n",
       "\n",
       "    .dataframe thead th {\n",
       "        text-align: right;\n",
       "    }\n",
       "</style>\n",
       "<table border=\"1\" class=\"dataframe\">\n",
       "  <thead>\n",
       "    <tr style=\"text-align: right;\">\n",
       "      <th></th>\n",
       "      <th>title</th>\n",
       "      <th>abstract</th>\n",
       "    </tr>\n",
       "  </thead>\n",
       "  <tbody>\n",
       "    <tr>\n",
       "      <th>0</th>\n",
       "      <td>mode decomposition evolution equations.</td>\n",
       "      <td>partial differential equation (pde) based meth...</td>\n",
       "    </tr>\n",
       "    <tr>\n",
       "      <th>1</th>\n",
       "      <td>children under fire: the role of the schools.</td>\n",
       "      <td>responses of teachers and children in northern...</td>\n",
       "    </tr>\n",
       "    <tr>\n",
       "      <th>2</th>\n",
       "      <td>predicting lettuce canopy photosynthesis with ...</td>\n",
       "      <td>an artificial neural network (nn) and a statis...</td>\n",
       "    </tr>\n",
       "    <tr>\n",
       "      <th>3</th>\n",
       "      <td>modeling persistent trends in distributions.</td>\n",
       "      <td>we present a nonparametric framework to model ...</td>\n",
       "    </tr>\n",
       "    <tr>\n",
       "      <th>4</th>\n",
       "      <td>\"involving interface\": an extended mind theore...</td>\n",
       "      <td>in 2008 the authors held \"involving interface,...</td>\n",
       "    </tr>\n",
       "    <tr>\n",
       "      <th>5</th>\n",
       "      <td>insect walking and robotics.</td>\n",
       "      <td>with the advent of significant collaborations ...</td>\n",
       "    </tr>\n",
       "  </tbody>\n",
       "</table>\n",
       "</div>"
      ],
      "text/plain": [
       "                                               title  \\\n",
       "0            mode decomposition evolution equations.   \n",
       "1      children under fire: the role of the schools.   \n",
       "2  predicting lettuce canopy photosynthesis with ...   \n",
       "3       modeling persistent trends in distributions.   \n",
       "4  \"involving interface\": an extended mind theore...   \n",
       "5                       insect walking and robotics.   \n",
       "\n",
       "                                            abstract  \n",
       "0  partial differential equation (pde) based meth...  \n",
       "1  responses of teachers and children in northern...  \n",
       "2  an artificial neural network (nn) and a statis...  \n",
       "3  we present a nonparametric framework to model ...  \n",
       "4  in 2008 the authors held \"involving interface,...  \n",
       "5  with the advent of significant collaborations ...  "
      ]
     },
     "execution_count": 76,
     "metadata": {},
     "output_type": "execute_result"
    }
   ],
   "source": [
    "x_kept = pd.DataFrame({\n",
    "    'title': X_title_kept,\n",
    "    'abstract': X_abstract_kept\n",
    "})\n",
    "x_discarded = pd.DataFrame({\n",
    "    'title': X_title_discarded,\n",
    "    'abstract': X_abstract_discarded\n",
    "})\n",
    "x_discarded"
   ]
  },
  {
   "cell_type": "code",
   "execution_count": 84,
   "metadata": {},
   "outputs": [
    {
     "data": {
      "text/plain": [
       "(6, 2)"
      ]
     },
     "execution_count": 84,
     "metadata": {},
     "output_type": "execute_result"
    }
   ],
   "source": [
    "x_discarded.values.shape"
   ]
  },
  {
   "cell_type": "code",
   "execution_count": 87,
   "metadata": {},
   "outputs": [
    {
     "data": {
      "text/plain": [
       "(8000, 8000, 2000, 2000)"
      ]
     },
     "execution_count": 87,
     "metadata": {},
     "output_type": "execute_result"
    }
   ],
   "source": [
    "x_train, x_test, y_train, y_test = train_test_split(x_kept.values, Y_kept, test_size=0.1995, random_state=0, stratify=Y_kept)\n",
    "x_test = np.vstack([x_test, x_discarded.values])\n",
    "y_test = y_test + Y_discarded\n",
    "len (x_train), len (y_train), len(x_test), len (y_test)"
   ]
  },
  {
   "cell_type": "code",
   "execution_count": 93,
   "metadata": {},
   "outputs": [
    {
     "data": {
      "text/html": [
       "<div>\n",
       "<style scoped>\n",
       "    .dataframe tbody tr th:only-of-type {\n",
       "        vertical-align: middle;\n",
       "    }\n",
       "\n",
       "    .dataframe tbody tr th {\n",
       "        vertical-align: top;\n",
       "    }\n",
       "\n",
       "    .dataframe thead th {\n",
       "        text-align: right;\n",
       "    }\n",
       "</style>\n",
       "<table border=\"1\" class=\"dataframe\">\n",
       "  <thead>\n",
       "    <tr style=\"text-align: right;\">\n",
       "      <th></th>\n",
       "      <th>title</th>\n",
       "      <th>abstract</th>\n",
       "      <th>label</th>\n",
       "    </tr>\n",
       "  </thead>\n",
       "  <tbody>\n",
       "    <tr>\n",
       "      <th>0</th>\n",
       "      <td>an improved kernel based extreme learning mach...</td>\n",
       "      <td>robot execution failures prediction (classific...</td>\n",
       "      <td>MULTIDISCIPLINARY SCIENCES</td>\n",
       "    </tr>\n",
       "    <tr>\n",
       "      <th>1</th>\n",
       "      <td>experimental tests of a neural-network model f...</td>\n",
       "      <td>spontaneous sinusoidal oscillations of the eye...</td>\n",
       "      <td>NEUROSCIENCES</td>\n",
       "    </tr>\n",
       "    <tr>\n",
       "      <th>2</th>\n",
       "      <td>decision making in concurrent multitasking: do...</td>\n",
       "      <td>while multitasking has received a great deal o...</td>\n",
       "      <td>MULTIDISCIPLINARY SCIENCES</td>\n",
       "    </tr>\n",
       "    <tr>\n",
       "      <th>3</th>\n",
       "      <td>applicability of vi in arid vegetation delinea...</td>\n",
       "      <td>gdvi(3), gdvi(2), ndvi, msavi and savi were ev...</td>\n",
       "      <td>ENVIRONMENTAL SCIENCES</td>\n",
       "    </tr>\n",
       "    <tr>\n",
       "      <th>4</th>\n",
       "      <td>an evaluation of multiple feed-forward network...</td>\n",
       "      <td>the graphics processing unit (gpu) originally ...</td>\n",
       "      <td>COMPUTER SCIENCE, ARTIFICIAL INTELLIGENCE</td>\n",
       "    </tr>\n",
       "  </tbody>\n",
       "</table>\n",
       "</div>"
      ],
      "text/plain": [
       "                                               title  \\\n",
       "0  an improved kernel based extreme learning mach...   \n",
       "1  experimental tests of a neural-network model f...   \n",
       "2  decision making in concurrent multitasking: do...   \n",
       "3  applicability of vi in arid vegetation delinea...   \n",
       "4  an evaluation of multiple feed-forward network...   \n",
       "\n",
       "                                            abstract  \\\n",
       "0  robot execution failures prediction (classific...   \n",
       "1  spontaneous sinusoidal oscillations of the eye...   \n",
       "2  while multitasking has received a great deal o...   \n",
       "3  gdvi(3), gdvi(2), ndvi, msavi and savi were ev...   \n",
       "4  the graphics processing unit (gpu) originally ...   \n",
       "\n",
       "                                       label  \n",
       "0                 MULTIDISCIPLINARY SCIENCES  \n",
       "1                              NEUROSCIENCES  \n",
       "2                 MULTIDISCIPLINARY SCIENCES  \n",
       "3                     ENVIRONMENTAL SCIENCES  \n",
       "4  COMPUTER SCIENCE, ARTIFICIAL INTELLIGENCE  "
      ]
     },
     "execution_count": 93,
     "metadata": {},
     "output_type": "execute_result"
    }
   ],
   "source": [
    "save_df = pd.DataFrame(x_train, columns=['title', 'abstract'])\n",
    "save_df['label'] = y_train\n",
    "save_df.to_csv(f\"{data_dir}/train.csv\", index=False)\n",
    "save_df.head()"
   ]
  },
  {
   "cell_type": "code",
   "execution_count": 95,
   "metadata": {},
   "outputs": [
    {
     "data": {
      "text/html": [
       "<div>\n",
       "<style scoped>\n",
       "    .dataframe tbody tr th:only-of-type {\n",
       "        vertical-align: middle;\n",
       "    }\n",
       "\n",
       "    .dataframe tbody tr th {\n",
       "        vertical-align: top;\n",
       "    }\n",
       "\n",
       "    .dataframe thead th {\n",
       "        text-align: right;\n",
       "    }\n",
       "</style>\n",
       "<table border=\"1\" class=\"dataframe\">\n",
       "  <thead>\n",
       "    <tr style=\"text-align: right;\">\n",
       "      <th></th>\n",
       "      <th>title</th>\n",
       "      <th>abstract</th>\n",
       "      <th>label</th>\n",
       "    </tr>\n",
       "  </thead>\n",
       "  <tbody>\n",
       "    <tr>\n",
       "      <th>0</th>\n",
       "      <td>tracking evolving communities in large linked ...</td>\n",
       "      <td>we are interested in tracking changes in large...</td>\n",
       "      <td>MULTIDISCIPLINARY SCIENCES</td>\n",
       "    </tr>\n",
       "    <tr>\n",
       "      <th>1</th>\n",
       "      <td>influences on the quality of student learning-...</td>\n",
       "      <td>this paper reviews recent research into the wa...</td>\n",
       "      <td>MEDICINE, GENERAL &amp; INTERNAL</td>\n",
       "    </tr>\n",
       "    <tr>\n",
       "      <th>2</th>\n",
       "      <td>the local geometry of multiattribute tradeoff ...</td>\n",
       "      <td>existing representations for multiattribute ce...</td>\n",
       "      <td>COMPUTER SCIENCE, ARTIFICIAL INTELLIGENCE</td>\n",
       "    </tr>\n",
       "    <tr>\n",
       "      <th>3</th>\n",
       "      <td>forest fire risk assessment-an integrated appr...</td>\n",
       "      <td>the present study deals with application of th...</td>\n",
       "      <td>ENVIRONMENTAL SCIENCES</td>\n",
       "    </tr>\n",
       "    <tr>\n",
       "      <th>4</th>\n",
       "      <td>a fully automated method for quantifying and l...</td>\n",
       "      <td>white matter hyperintensities (wmh), commonly ...</td>\n",
       "      <td>PSYCHIATRY</td>\n",
       "    </tr>\n",
       "  </tbody>\n",
       "</table>\n",
       "</div>"
      ],
      "text/plain": [
       "                                               title  \\\n",
       "0  tracking evolving communities in large linked ...   \n",
       "1  influences on the quality of student learning-...   \n",
       "2  the local geometry of multiattribute tradeoff ...   \n",
       "3  forest fire risk assessment-an integrated appr...   \n",
       "4  a fully automated method for quantifying and l...   \n",
       "\n",
       "                                            abstract  \\\n",
       "0  we are interested in tracking changes in large...   \n",
       "1  this paper reviews recent research into the wa...   \n",
       "2  existing representations for multiattribute ce...   \n",
       "3  the present study deals with application of th...   \n",
       "4  white matter hyperintensities (wmh), commonly ...   \n",
       "\n",
       "                                       label  \n",
       "0                 MULTIDISCIPLINARY SCIENCES  \n",
       "1               MEDICINE, GENERAL & INTERNAL  \n",
       "2  COMPUTER SCIENCE, ARTIFICIAL INTELLIGENCE  \n",
       "3                     ENVIRONMENTAL SCIENCES  \n",
       "4                                 PSYCHIATRY  "
      ]
     },
     "execution_count": 95,
     "metadata": {},
     "output_type": "execute_result"
    }
   ],
   "source": [
    "save_df = pd.DataFrame(x_test, columns=['title', 'abstract'])\n",
    "save_df['label'] = y_test\n",
    "save_df.to_csv(f\"{data_dir}/test.csv\", index=False)\n",
    "save_df.head()"
   ]
  },
  {
   "cell_type": "code",
   "execution_count": 15,
   "metadata": {},
   "outputs": [
    {
     "data": {
      "text/plain": [
       "(8000, 8000, 2000, 2000)"
      ]
     },
     "execution_count": 15,
     "metadata": {},
     "output_type": "execute_result"
    }
   ],
   "source": [
    "x_train, x_test, y_train, y_test = train_test_split(X_title, \n",
    "                                                    Y, \n",
    "                                                    test_size=0.2, \n",
    "                                                    random_state=42)\n",
    "len (x_train), len (y_train), len(x_test), len (y_test) \n"
   ]
  },
  {
   "cell_type": "code",
   "execution_count": 24,
   "metadata": {},
   "outputs": [],
   "source": [
    "# creer un mapping cat_2_id\n",
    "\n",
    "# creer un reverse mapping id_2_cat\n",
    "\n",
    "# calculer la taille du vocabulaire cat_vocab\n",
    "\n",
    "# preprocesser les X_train et X_test en X_train_id et X_test_id\n",
    "\n",
    "def create_vocab(dt): \n",
    "  to_id = {'<PAD>': 0, '<UNK>':1}\n",
    "\n",
    "  for sent in dt:\n",
    "    for w in sent: \n",
    "      if w not in to_id.keys():\n",
    "        to_id[w] = len(to_id)\n",
    "\n",
    "  from_id = {v: k for k, v in to_id.items()}\n",
    "\n",
    "  vocab = len(to_id.keys())\n",
    "\n",
    "  return to_id, from_id, vocab\n",
    "\n",
    "def preprocess_Y(Y, cat_to_id): \n",
    "  res = []\n",
    "  for ex in Y: \n",
    "    if ex not in cat_to_id.keys():\n",
    "      res.append(cat_to_id['<UNK>'])\n",
    "    else:\n",
    "      res.append(cat_to_id[ex])\n",
    "  return np.array(res)"
   ]
  },
  {
   "cell_type": "code",
   "execution_count": 25,
   "metadata": {},
   "outputs": [],
   "source": [
    "cat_to_id, cat_from_id, cat_vocab = create_vocab([y_train])\n",
    "y_train_id = preprocess_Y(y_train, cat_to_id)\n",
    "y_test_id = preprocess_Y(y_test, cat_to_id)"
   ]
  },
  {
   "cell_type": "code",
   "execution_count": 26,
   "metadata": {},
   "outputs": [],
   "source": [
    "# Créer le tokenizer\n",
    "tokenizer = tf.keras.preprocessing.text.Tokenizer(num_words=10000)\n",
    "\n",
    "# Entrainer le tokenizer sur le train set \n",
    "tokenizer.fit_on_texts(x_train)\n",
    "\n",
    "# Transformer les textes en vecteurs numeriques à l'aide du tokenizer\n",
    "x_train_seq = tokenizer.texts_to_sequences(x_train)\n",
    "x_test_seq =  tokenizer.texts_to_sequences(x_test)\n",
    "\n",
    "#faire un padding\n",
    "x_train_seq = tf.keras.preprocessing.sequence.pad_sequences(x_train_seq, maxlen = 40, truncating='post')\n",
    "x_test_seq = tf.keras.preprocessing.sequence.pad_sequences(x_test_seq, maxlen = 40, truncating='post')"
   ]
  },
  {
   "cell_type": "code",
   "execution_count": null,
   "metadata": {},
   "outputs": [],
   "source": []
  }
 ],
 "metadata": {
  "kernelspec": {
   "display_name": "Python 3",
   "language": "python",
   "name": "python3"
  },
  "language_info": {
   "codemirror_mode": {
    "name": "ipython",
    "version": 3
   },
   "file_extension": ".py",
   "mimetype": "text/x-python",
   "name": "python",
   "nbconvert_exporter": "python",
   "pygments_lexer": "ipython3",
   "version": "3.6.8"
  }
 },
 "nbformat": 4,
 "nbformat_minor": 2
}
